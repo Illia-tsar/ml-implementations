{
 "cells": [
  {
   "cell_type": "code",
   "execution_count": 1,
   "id": "8725b770",
   "metadata": {},
   "outputs": [],
   "source": [
    "import numpy as np\n",
    "import pandas as pd\n",
    "import matplotlib.pyplot as plt\n",
    "import seaborn as sns; sns.set()\n",
    "from sklearn.metrics import confusion_matrix, classification_report, accuracy_score\n",
    "import warnings\n",
    "warnings.filterwarnings('ignore')"
   ]
  },
  {
   "cell_type": "code",
   "execution_count": 2,
   "id": "0a8eda6a",
   "metadata": {},
   "outputs": [],
   "source": [
    "class ADALINE:\n",
    "    \n",
    "    def __init__(self, eta=0.01, n_iters=400):\n",
    "        self.eta = eta\n",
    "        self.n_iters = n_iters\n",
    "        \n",
    "        \n",
    "    def shuffle(self, X, y):\n",
    "        idx = np.random.permutation(len(y))\n",
    "        return X[idx], y[idx]\n",
    "        \n",
    "        \n",
    "    def net_input(self, X):\n",
    "        return np.dot(X, self.w_)\n",
    "    \n",
    "    \n",
    "    def activate(self, X):\n",
    "        return self.net_input(X)\n",
    "    \n",
    "    \n",
    "    def predict(self, X):\n",
    "        return np.where(self.activate(X) >= 0, 1, -1)\n",
    "    \n",
    "    \n",
    "    def update_weights(self, x, y_tar):\n",
    "        error = y_tar - self.activate(x)\n",
    "        self.w_ += self.eta * x.dot(error)\n",
    "        return (error**2).sum() / 2.0\n",
    "    \n",
    "    \n",
    "    def fit(self, X, y):\n",
    "        self.w_ = np.zeros(X.shape[1])\n",
    "        self.costs_ = []\n",
    "        \n",
    "        for i in range(self.n_iters):\n",
    "            costs = []\n",
    "            X, y = self.shuffle(X, y)\n",
    "            \n",
    "            for xi, target in zip(X, y):\n",
    "                costs.append(self.update_weights(xi, target))\n",
    "            \n",
    "            #to add costs every 20 iterations\n",
    "            if i%20 == 0:\n",
    "                avg_cost = np.mean(costs)\n",
    "                self.costs_.append(avg_cost)"
   ]
  },
  {
   "cell_type": "code",
   "execution_count": 3,
   "id": "f1c64480",
   "metadata": {},
   "outputs": [],
   "source": [
    "#function to load breast cancer data\n",
    "def load_data():\n",
    "    from sklearn.datasets import load_breast_cancer\n",
    "    from sklearn.model_selection import train_test_split\n",
    "    from sklearn.preprocessing import StandardScaler\n",
    "    \n",
    "    X, y = load_breast_cancer(return_X_y=True)\n",
    "    y[y == 0] = -1\n",
    "    \n",
    "    sc = StandardScaler()\n",
    "    X_std = sc.fit_transform(X)\n",
    "    \n",
    "    X_train, X_test, y_train, y_test = train_test_split(X_std, y, test_size=0.3, random_state=17)\n",
    "    return X_train, X_test, y_train, y_test"
   ]
  },
  {
   "cell_type": "code",
   "execution_count": 4,
   "id": "ad1202c5",
   "metadata": {},
   "outputs": [],
   "source": [
    "#get train/test sets\n",
    "X_train, X_test, y_train, y_test = load_data()"
   ]
  },
  {
   "cell_type": "code",
   "execution_count": 5,
   "id": "ef3d325e",
   "metadata": {},
   "outputs": [
    {
     "name": "stdout",
     "output_type": "stream",
     "text": [
      "Accuracy on train data: 0.9773869346733668\n",
      "Accuracy on test data: 0.9649122807017544\n"
     ]
    }
   ],
   "source": [
    "#train ADALINE and print obtained accuracies\n",
    "clf = ADALINE(eta=0.001, n_iters=2000)\n",
    "clf.fit(X_train, y_train)\n",
    "\n",
    "y_train_pred = clf.predict(X_train)\n",
    "y_test_pred = clf.predict(X_test)\n",
    "\n",
    "print(f'Accuracy on train data: {accuracy_score(y_train, y_train_pred)}')\n",
    "print(f'Accuracy on test data: {accuracy_score(y_test, y_test_pred)}')"
   ]
  },
  {
   "cell_type": "code",
   "execution_count": 6,
   "id": "d6cd0c6e",
   "metadata": {},
   "outputs": [
    {
     "data": {
      "text/plain": [
       "Text(0, 0.5, 'Cost')"
      ]
     },
     "execution_count": 6,
     "metadata": {},
     "output_type": "execute_result"
    },
    {
     "data": {
      "image/png": "[encoded data removed]",
      "text/plain": [
       "<Figure size 720x576 with 1 Axes>"
      ]
     },
     "metadata": {},
     "output_type": "display_data"
    }
   ],
   "source": [
    "#plot learning curve\n",
    "plt.figure(figsize=(10, 8))\n",
    "plt.plot(range(0, len(clf.costs_)*20, 20), clf.costs_)\n",
    "plt.xlabel('Iteration')\n",
    "plt.ylabel('Cost')"
   ]
  },
  {
   "cell_type": "code",
   "execution_count": 7,
   "id": "750572a1",
   "metadata": {},
   "outputs": [
    {
     "data": {
      "text/plain": [
       "<AxesSubplot:>"
      ]
     },
     "execution_count": 7,
     "metadata": {},
     "output_type": "execute_result"
    },
    {
     "data": {
      "image/png": "[encoded data removed]",
      "text/plain": [
       "<Figure size 432x288 with 2 Axes>"
      ]
     },
     "metadata": {},
     "output_type": "display_data"
    }
   ],
   "source": [
    "#build confusion matrix\n",
    "conf_matr = confusion_matrix(y_test, y_test_pred)\n",
    "sns.heatmap(conf_matr, cmap='summer', annot=True, cbar=True)"
   ]
  },
  {
   "cell_type": "code",
   "execution_count": 8,
   "id": "bde52d0d",
   "metadata": {},
   "outputs": [
    {
     "name": "stdout",
     "output_type": "stream",
     "text": [
      "              precision    recall  f1-score   support\n",
      "\n",
      "   Malignant       0.94      0.97      0.95        61\n",
      "      Benign       0.98      0.96      0.97       110\n",
      "\n",
      "    accuracy                           0.96       171\n",
      "   macro avg       0.96      0.97      0.96       171\n",
      "weighted avg       0.97      0.96      0.97       171\n",
      "\n"
     ]
    }
   ],
   "source": [
    "print(classification_report(y_test, y_test_pred, target_names=['Malignant', 'Benign']))"
   ]
  }
 ],
 "metadata": {
  "kernelspec": {
   "display_name": "Python 3 (ipykernel)",
   "language": "python",
   "name": "python3"
  },
  "language_info": {
   "codemirror_mode": {
    "name": "ipython",
    "version": 3
   },
   "file_extension": ".py",
   "mimetype": "text/x-python",
   "name": "python",
   "nbconvert_exporter": "python",
   "pygments_lexer": "ipython3",
   "version": "3.10.1"
  }
 },
 "nbformat": 4,
 "nbformat_minor": 5
}

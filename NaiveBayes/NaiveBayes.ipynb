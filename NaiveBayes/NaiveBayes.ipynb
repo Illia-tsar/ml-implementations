{
 "cells": [
  {
   "cell_type": "code",
   "execution_count": 1,
   "id": "6ad6560b",
   "metadata": {},
   "outputs": [],
   "source": [
    "import pandas as pd\n",
    "from collections import Counter\n",
    "import numpy as np\n",
    "import re\n",
    "from sklearn.metrics import confusion_matrix, classification_report\n",
    "import seaborn as sns; sns.set()"
   ]
  },
  {
   "cell_type": "code",
   "execution_count": 2,
   "id": "b15213fb",
   "metadata": {},
   "outputs": [
    {
     "data": {
      "text/html": [
       "<div>\n",
       "<style scoped>\n",
       "    .dataframe tbody tr th:only-of-type {\n",
       "        vertical-align: middle;\n",
       "    }\n",
       "\n",
       "    .dataframe tbody tr th {\n",
       "        vertical-align: top;\n",
       "    }\n",
       "\n",
       "    .dataframe thead th {\n",
       "        text-align: right;\n",
       "    }\n",
       "</style>\n",
       "<table border=\"1\" class=\"dataframe\">\n",
       "  <thead>\n",
       "    <tr style=\"text-align: right;\">\n",
       "      <th></th>\n",
       "      <th>v1</th>\n",
       "      <th>v2</th>\n",
       "    </tr>\n",
       "  </thead>\n",
       "  <tbody>\n",
       "    <tr>\n",
       "      <th>0</th>\n",
       "      <td>ham</td>\n",
       "      <td>Go until jurong point, crazy.. Available only ...</td>\n",
       "    </tr>\n",
       "    <tr>\n",
       "      <th>1</th>\n",
       "      <td>ham</td>\n",
       "      <td>Ok lar... Joking wif u oni...</td>\n",
       "    </tr>\n",
       "    <tr>\n",
       "      <th>2</th>\n",
       "      <td>spam</td>\n",
       "      <td>Free entry in 2 a wkly comp to win FA Cup fina...</td>\n",
       "    </tr>\n",
       "    <tr>\n",
       "      <th>3</th>\n",
       "      <td>ham</td>\n",
       "      <td>U dun say so early hor... U c already then say...</td>\n",
       "    </tr>\n",
       "    <tr>\n",
       "      <th>4</th>\n",
       "      <td>ham</td>\n",
       "      <td>Nah I don't think he goes to usf, he lives aro...</td>\n",
       "    </tr>\n",
       "  </tbody>\n",
       "</table>\n",
       "</div>"
      ],
      "text/plain": [
       "     v1                                                 v2\n",
       "0   ham  Go until jurong point, crazy.. Available only ...\n",
       "1   ham                      Ok lar... Joking wif u oni...\n",
       "2  spam  Free entry in 2 a wkly comp to win FA Cup fina...\n",
       "3   ham  U dun say so early hor... U c already then say...\n",
       "4   ham  Nah I don't think he goes to usf, he lives aro..."
      ]
     },
     "execution_count": 2,
     "metadata": {},
     "output_type": "execute_result"
    }
   ],
   "source": [
    "#To test NaiveBayes implementation we will try classifying spam messages\n",
    "df = pd.read_csv('spam.csv', encoding='latin-1')\n",
    "df.head()"
   ]
  },
  {
   "cell_type": "code",
   "execution_count": 3,
   "id": "a3815345",
   "metadata": {},
   "outputs": [
    {
     "data": {
      "text/plain": [
       "ham     4825\n",
       "spam     747\n",
       "Name: v1, dtype: int64"
      ]
     },
     "execution_count": 3,
     "metadata": {},
     "output_type": "execute_result"
    }
   ],
   "source": [
    "#explore class frequencies\n",
    "df['v1'].value_counts()"
   ]
  },
  {
   "cell_type": "code",
   "execution_count": 4,
   "id": "8366e63d",
   "metadata": {},
   "outputs": [],
   "source": [
    "#divide data into train and test sets\n",
    "idx = np.arange(df.shape[0])\n",
    "np.random.seed(17)\n",
    "np.random.shuffle(idx)\n",
    "\n",
    "train_set_size = int(df.shape[0] * 0.8)\n",
    "\n",
    "train_set = df.iloc[idx[:train_set_size]]\n",
    "test_set = df.iloc[idx[train_set_size:]]"
   ]
  },
  {
   "cell_type": "code",
   "execution_count": 5,
   "id": "46f10898",
   "metadata": {},
   "outputs": [
    {
     "name": "stdout",
     "output_type": "stream",
     "text": [
      "Train set has shape: (4457, 2)\n",
      "Test set has shape: (1115, 2)\n"
     ]
    }
   ],
   "source": [
    "print(f'Train set has shape: {train_set.shape}')\n",
    "print(f'Test set has shape: {test_set.shape}')"
   ]
  },
  {
   "cell_type": "code",
   "execution_count": 6,
   "id": "c28cce50",
   "metadata": {},
   "outputs": [],
   "source": [
    "#func for cleaning single message from symbols, leaving only letters a-z and numbers 0-9\n",
    "def clean_message(msg):\n",
    "    msg = msg.lower()\n",
    "    pattern = re.compile('\\w+')\n",
    "    nums_letters = re.findall(pattern, msg)\n",
    "    result = ' '.join(nums_letters)\n",
    "    return result"
   ]
  },
  {
   "cell_type": "code",
   "execution_count": 7,
   "id": "a4fc07bf",
   "metadata": {},
   "outputs": [],
   "source": [
    "#preprocessing step\n",
    "def preprocess_data(train_set, test_set):\n",
    "    train_set_x = [clean_message(string).split() for string in train_set['v2']]\n",
    "    train_set_x = np.array(train_set_x, dtype=object)\n",
    "    train_set_y = train_set['v1'].to_numpy()\n",
    "    \n",
    "    test_set_x = [clean_message(string).split() for string in test_set['v2']]\n",
    "    test_set_x = np.array(test_set_x, dtype=object)\n",
    "    test_set_y = test_set['v1'].to_numpy()\n",
    "    \n",
    "    return train_set_x, train_set_y, test_set_x, test_set_y\n",
    "\n",
    "train_set_x, train_set_y, test_set_x, test_set_y = preprocess_data(train_set, test_set)"
   ]
  },
  {
   "cell_type": "code",
   "execution_count": 8,
   "id": "9af20b6a",
   "metadata": {},
   "outputs": [],
   "source": [
    "#helper function for NaiveBayes\n",
    "def words_classes(X_train, y_train):\n",
    "    '''\n",
    "    Returns arrays of unique words in each class and their union(totally 3 lists)\n",
    "    '''\n",
    "    all_words_list = set()\n",
    "    ham_words_list = set()\n",
    "    spam_words_list = set()\n",
    "    \n",
    "    for i, row in enumerate(X_train):\n",
    "        if y_train[i] == 'ham':\n",
    "            ham_words_list = ham_words_list.union(set(row))\n",
    "        else:\n",
    "            spam_words_list = spam_words_list.union(set(row))\n",
    "    \n",
    "    all_words_list = np.array(list(ham_words_list | spam_words_list))\n",
    "    ham_words_list = np.array(list(ham_words_list))\n",
    "    spam_words_list = np.array(list(spam_words_list))\n",
    "    \n",
    "    return all_words_list, ham_words_list, spam_words_list"
   ]
  },
  {
   "cell_type": "code",
   "execution_count": 9,
   "id": "dee9ca10",
   "metadata": {},
   "outputs": [],
   "source": [
    "class NaiveBayes:\n",
    "\n",
    "    def __init__(self, alpha):\n",
    "        self.alpha = alpha      #coefficient of Laplace smoothing\n",
    "        \n",
    "        self.train_set_x = None\n",
    "        self.train_set_y = None\n",
    "        \n",
    "        self.all_words_list = []\n",
    "        self.ham_words_list = []\n",
    "        self.spam_words_list = []\n",
    "\n",
    "        self.ham_words_dict = {}\n",
    "        self.spam_words_dict = {}\n",
    "        \n",
    "        self.prior_ham_prob = None\n",
    "        self.prior_spam_prob = None\n",
    "    \n",
    "    \n",
    "    def fit(self, train_set_x, train_set_y):\n",
    "        '''\n",
    "        This function calculates the probability of each word in both categories\n",
    "        and a prior probability of each category\n",
    "        '''\n",
    "\n",
    "        self.all_words_list, self.ham_words_list, self.spam_words_list = words_classes(train_set_x, train_set_y)\n",
    "        \n",
    "        ham_counter = Counter()\n",
    "        spam_counter = Counter()\n",
    "        \n",
    "        for i, row in enumerate(train_set_x):\n",
    "            (ham_counter.update if train_set_y[i] == 'ham' else spam_counter.update)(row)\n",
    "        \n",
    "        ham_words_total = sum(ham_counter.values())\n",
    "        spam_words_total = sum(spam_counter.values())\n",
    "        \n",
    "        for word in self.all_words_list:\n",
    "            if word in ham_counter.keys():\n",
    "                self.ham_words_dict[word] = (ham_counter[word] + self.alpha) / (ham_words_total + \n",
    "                                                                                self.alpha*len(self.all_words_list))\n",
    "            else:\n",
    "                self.ham_words_dict[word] = self.alpha / (ham_words_total + self.alpha*len(self.all_words_list))\n",
    "            \n",
    "            if word in spam_counter.keys():\n",
    "                self.spam_words_dict[word] = (spam_counter[word] + self.alpha) / (spam_words_total + \n",
    "                                                                                  self.alpha*len(self.all_words_list))\n",
    "            else:\n",
    "                self.spam_words_dict[word] = self.alpha / (spam_words_total + self.alpha*len(self.all_words_list))\n",
    "        \n",
    "        n_ham_emails = train_set_x[train_set_y == 'ham'].shape[0]\n",
    "        n_observations = train_set_x.shape[0]\n",
    "        \n",
    "        self.prior_ham_prob = n_ham_emails / n_observations\n",
    "        self.prior_spam_prob = 1 - self.prior_ham_prob\n",
    "       \n",
    "    \n",
    "    def predict(self, test_set_x):\n",
    "        '''\n",
    "        This function calculates probabilities of belonging to ham and spam category and depending on them\n",
    "        assigns label to an observation\n",
    "        '''\n",
    "        \n",
    "        y_pred = []\n",
    "        for row in test_set_x:\n",
    "            ham_prob = np.log(self.prior_ham_prob)\n",
    "            spam_prob = np.log(self.prior_spam_prob)\n",
    "            for word in row:\n",
    "                if word not in self.all_words_list:\n",
    "                    continue\n",
    "                ham_prob += np.log(self.ham_words_dict[word])\n",
    "                spam_prob += np.log(self.spam_words_dict[word])\n",
    "            \n",
    "            y_pred.append('ham' if ham_prob > spam_prob else 'spam')\n",
    "        \n",
    "        return np.array(y_pred)"
   ]
  },
  {
   "cell_type": "code",
   "execution_count": 10,
   "id": "5b152b49",
   "metadata": {},
   "outputs": [],
   "source": [
    "#initialize model with alpha=1 which corresponds to add-one smoothing\n",
    "nbc = NaiveBayes(alpha=1)\n",
    "nbc.fit(train_set_x, train_set_y)\n",
    "y_predictions = nbc.predict(test_set_x)"
   ]
  },
  {
   "cell_type": "code",
   "execution_count": 11,
   "id": "12277be3",
   "metadata": {},
   "outputs": [
    {
     "data": {
      "text/plain": [
       "<AxesSubplot:>"
      ]
     },
     "execution_count": 11,
     "metadata": {},
     "output_type": "execute_result"
    },
    {
     "data": {
      "image/png": "[encoded data removed]",
      "text/plain": [
       "<Figure size 432x288 with 2 Axes>"
      ]
     },
     "metadata": {},
     "output_type": "display_data"
    }
   ],
   "source": [
    "#build confusion matrix\n",
    "conf_mat = confusion_matrix(test_set_y, y_predictions)\n",
    "sns.heatmap(conf_mat, cmap='viridis', annot=True, cbar=True)"
   ]
  },
  {
   "cell_type": "code",
   "execution_count": 12,
   "id": "04e8d71b",
   "metadata": {},
   "outputs": [
    {
     "name": "stdout",
     "output_type": "stream",
     "text": [
      "              precision    recall  f1-score   support\n",
      "\n",
      "         ham       0.99      1.00      1.00       961\n",
      "        spam       0.97      0.97      0.97       154\n",
      "\n",
      "    accuracy                           0.99      1115\n",
      "   macro avg       0.98      0.98      0.98      1115\n",
      "weighted avg       0.99      0.99      0.99      1115\n",
      "\n"
     ]
    }
   ],
   "source": [
    "print(classification_report(test_set_y, y_predictions, target_names=['ham', 'spam']))"
   ]
  }
 ],
 "metadata": {
  "kernelspec": {
   "display_name": "Python 3 (ipykernel)",
   "language": "python",
   "name": "python3"
  },
  "language_info": {
   "codemirror_mode": {
    "name": "ipython",
    "version": 3
   },
   "file_extension": ".py",
   "mimetype": "text/x-python",
   "name": "python",
   "nbconvert_exporter": "python",
   "pygments_lexer": "ipython3",
   "version": "3.10.1"
  }
 },
 "nbformat": 4,
 "nbformat_minor": 5
}

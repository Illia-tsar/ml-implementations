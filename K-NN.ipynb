{
 "cells": [
  {
   "cell_type": "code",
   "execution_count": 1,
   "id": "a1e1d065",
   "metadata": {},
   "outputs": [],
   "source": [
    "#all the necessary imports\n",
    "import numpy as np\n",
    "from sklearn.model_selection import train_test_split\n",
    "from sklearn.datasets import load_iris\n",
    "from sklearn.metrics import accuracy_score\n",
    "from sklearn.neighbors import KNeighborsClassifier"
   ]
  },
  {
   "cell_type": "code",
   "execution_count": 2,
   "id": "79fe27b7",
   "metadata": {},
   "outputs": [],
   "source": [
    "#implement Euclidian distance to calculate similarity\n",
    "def euclid_m(x_train, x_test):\n",
    "    '''\n",
    "    X_train - train data\n",
    "    X_test - test data\n",
    "    Returns: np.array of distances between each pair of train and test data correspondingly\n",
    "    '''\n",
    "    \n",
    "    n_samples1 = X_train.shape[0]\n",
    "    n_samples2 = X_test.shape[0]\n",
    "    \n",
    "    dists = np.zeros((n_samples2, n_samples1))\n",
    "    for i in range(n_samples2):\n",
    "        for j in range(n_samples1):\n",
    "            dists[i, j] = np.linalg.norm(X_train[j] - X_test[i])\n",
    "    \n",
    "    return dists"
   ]
  },
  {
   "cell_type": "code",
   "execution_count": 3,
   "id": "ac318b7c",
   "metadata": {},
   "outputs": [],
   "source": [
    "#find labels of k nearest data points\n",
    "def k_labels(dists, y_train, k):\n",
    "    '''\n",
    "    dists - array of distances between each pair of train and test data correspondingly\n",
    "    y_train - labels of train data\n",
    "    k - number of nearest neighbours\n",
    "    Returns: labels of k nearest neighbours for each sample\n",
    "    '''\n",
    "    n_samples = dists.shape[0]\n",
    "    n_nearest = []\n",
    "    \n",
    "    for i in range(n_samples):\n",
    "        dst = dists[i]\n",
    "        labels = y_train[np.argpartition(dst, k-1)[:k]]\n",
    "        n_nearest.append(labels)\n",
    "        \n",
    "    return np.asarray(n_nearest)"
   ]
  },
  {
   "cell_type": "code",
   "execution_count": 4,
   "id": "9412852b",
   "metadata": {},
   "outputs": [],
   "source": [
    "#K-nearest Neighbours in SKLearn style\n",
    "class KNN():\n",
    "    \n",
    "    def __init__(self, k):\n",
    "        self.k = k\n",
    "        self.x_test = None\n",
    "        self.x_train = None\n",
    "        self.y_train = None\n",
    "\n",
    "    def fit(self, x_train, y_train):\n",
    "        self.x_train = x_train\n",
    "        self.y_train = y_train\n",
    "    \n",
    "    def predict(self, x_test):\n",
    "        self.x_test = x_test\n",
    "        dsts = euclid_m(self.x_train, self.x_test)\n",
    "        votes = k_labels(dsts, self.y_train, self.k)\n",
    "        prediction = []\n",
    "        \n",
    "        for row in votes:\n",
    "            unique, counts = np.unique(row, return_counts=True)\n",
    "            prediction.append(unique[np.argmax(counts)])\n",
    "        \n",
    "        return np.array(prediction)"
   ]
  },
  {
   "cell_type": "code",
   "execution_count": 5,
   "id": "2f4e67e1",
   "metadata": {},
   "outputs": [],
   "source": [
    "#let`s load iris data set to test K-NN performance\n",
    "iris = load_iris()\n",
    "X_train, X_test, y_train, y_test = train_test_split(iris.data, iris.target, test_size=0.33, random_state=17)"
   ]
  },
  {
   "cell_type": "code",
   "execution_count": 6,
   "id": "1464a962",
   "metadata": {},
   "outputs": [
    {
     "name": "stdout",
     "output_type": "stream",
     "text": [
      "Train data set has 100 observations and 4 features\n",
      "Test data set has 50 observations and 4 features\n"
     ]
    }
   ],
   "source": [
    "#explore train/test shapes\n",
    "print(f'Train data set has {X_train.shape[0]} observations and {X_train.shape[1]} features')\n",
    "print(f'Test data set has {X_test.shape[0]} observations and {X_test.shape[1]} features')"
   ]
  },
  {
   "cell_type": "code",
   "execution_count": 7,
   "id": "7429b368",
   "metadata": {},
   "outputs": [],
   "source": [
    "#initialize and train the model\n",
    "knn1 = KNN(k=4)\n",
    "knn1.fit(X_train, y_train)"
   ]
  },
  {
   "cell_type": "code",
   "execution_count": 8,
   "id": "1e2e692a",
   "metadata": {},
   "outputs": [
    {
     "name": "stdout",
     "output_type": "stream",
     "text": [
      "Accuracy score: 0.96\n"
     ]
    }
   ],
   "source": [
    "#make predictions and calculate accuracy\n",
    "y_pred = knn1.predict(X_test)\n",
    "print(f'Accuracy score: {accuracy_score(y_test, y_pred)}')"
   ]
  },
  {
   "cell_type": "code",
   "execution_count": 9,
   "id": "ab30a0f2",
   "metadata": {},
   "outputs": [
    {
     "name": "stdout",
     "output_type": "stream",
     "text": [
      "Accuracy score: 0.96\n"
     ]
    }
   ],
   "source": [
    "#compare the results obtained with sklearn`s implementation\n",
    "knn2 = KNeighborsClassifier(n_neighbors=4, metric='minkowski', p=2, n_jobs=4)\n",
    "knn2.fit(X_train, y_train)\n",
    "y_pred = knn2.predict(X_test)\n",
    "print(f'Accuracy score: {accuracy_score(y_test, y_pred)}')"
   ]
  }
 ],
 "metadata": {
  "kernelspec": {
   "display_name": "Python 3 (ipykernel)",
   "language": "python",
   "name": "python3"
  },
  "language_info": {
   "codemirror_mode": {
    "name": "ipython",
    "version": 3
   },
   "file_extension": ".py",
   "mimetype": "text/x-python",
   "name": "python",
   "nbconvert_exporter": "python",
   "pygments_lexer": "ipython3",
   "version": "3.10.1"
  }
 },
 "nbformat": 4,
 "nbformat_minor": 5
}
